{
  "nbformat": 4,
  "nbformat_minor": 0,
  "metadata": {
    "colab": {
      "provenance": [],
      "gpuType": "T4"
    },
    "kernelspec": {
      "name": "python3",
      "display_name": "Python 3"
    },
    "language_info": {
      "name": "python"
    },
    "accelerator": "GPU"
  },
  "cells": [
    {
      "cell_type": "markdown",
      "source": [
        "# Read Data"
      ],
      "metadata": {
        "id": "NnaSZHBYz6pF"
      }
    },
    {
      "cell_type": "code",
      "source": [
        "# set up logging\n",
        "import logging\n",
        "import logging.config\n",
        "\n",
        "logging.basicConfig(format='%(asctime)s : %(levelname)s : %(message)s', level=logging.INFO)"
      ],
      "metadata": {
        "id": "K4N_DqRS6QqM"
      },
      "execution_count": 1,
      "outputs": []
    },
    {
      "cell_type": "code",
      "execution_count": 2,
      "metadata": {
        "id": "mL_JJm3LhISg"
      },
      "outputs": [],
      "source": [
        "import numpy as np\n",
        "import pandas as pd\n",
        "import seaborn as sns\n",
        "import matplotlib.pyplot as plt\n",
        "from tqdm import tqdm\n",
        "import warnings\n",
        "warnings.filterwarnings('ignore')"
      ]
    },
    {
      "cell_type": "code",
      "source": [
        "!gdown 1-F7f9oSjFx0Si44DvdkzFhjjwfro_Y1p"
      ],
      "metadata": {
        "colab": {
          "base_uri": "https://localhost:8080/"
        },
        "id": "Qh374VkciHk-",
        "outputId": "366a9665-fc66-4b6d-bb02-d51703fdf5f6"
      },
      "execution_count": 3,
      "outputs": [
        {
          "output_type": "stream",
          "name": "stdout",
          "text": [
            "Downloading...\n",
            "From: https://drive.google.com/uc?id=1-F7f9oSjFx0Si44DvdkzFhjjwfro_Y1p\n",
            "To: /content/train_data.csv\n",
            "100% 635M/635M [00:06<00:00, 96.3MB/s]\n"
          ]
        }
      ]
    },
    {
      "cell_type": "code",
      "source": [
        "# Load data\n",
        "train = pd.read_csv('train_data.csv')\n",
        "print(\"Data loaded\")"
      ],
      "metadata": {
        "colab": {
          "base_uri": "https://localhost:8080/"
        },
        "id": "hzH_rsUJiJtl",
        "outputId": "89346e20-999a-467c-9a72-fdec15a88449"
      },
      "execution_count": 4,
      "outputs": [
        {
          "output_type": "stream",
          "name": "stdout",
          "text": [
            "Data loaded\n"
          ]
        }
      ]
    },
    {
      "cell_type": "code",
      "source": [
        "train.head()"
      ],
      "metadata": {
        "colab": {
          "base_uri": "https://localhost:8080/",
          "height": 678
        },
        "id": "9tE34n6liLv_",
        "outputId": "9fe85649-ad10-4356-c777-3ec47da5997e"
      },
      "execution_count": 5,
      "outputs": [
        {
          "output_type": "execute_result",
          "data": {
            "text/plain": [
              "   overall vote  verified  reviewTime      reviewerID        asin style  \\\n",
              "0        2  NaN     False  2016-11-11   A2OSUEZJIN7BI  0511189877   NaN   \n",
              "1        5  NaN      True  2016-06-06  A2NETQRG6JHIG7  0511189877   NaN   \n",
              "2        4  NaN      True  2016-03-10  A12JHGROAX49G7  0511189877   NaN   \n",
              "3        5  NaN      True  2016-01-14  A1KV65E2TMMG6F  0511189877   NaN   \n",
              "4        5  NaN      True  2016-10-20  A280POPEWI0NSA  0594459451   NaN   \n",
              "\n",
              "    reviewerName                                         reviewText  \\\n",
              "0          Chris  I have an older URC-WR7 remote and thought thi...   \n",
              "1   Qrysta White  First time I've EVER had a remote that needed ...   \n",
              "2        Linwood  Got them and only 2 of them worked. company ca...   \n",
              "3  Dane Williams  I got tired of the remote being on the wrong s...   \n",
              "4    Kristina H.  After purchasing cheap cords from another webs...   \n",
              "\n",
              "                               summary  unixReviewTime  \n",
              "0                         Cannot Learn      1478822400  \n",
              "1  zero programming needed!  Miracle!?      1465171200  \n",
              "2        Works Good and programs easy.      1457568000  \n",
              "3                   Same as TWC remote      1452729600  \n",
              "4                    Good Quality Cord      1476921600  "
            ],
            "text/html": [
              "\n",
              "  <div id=\"df-0fca51cd-9105-4d93-aae9-d74d270435dc\" class=\"colab-df-container\">\n",
              "    <div>\n",
              "<style scoped>\n",
              "    .dataframe tbody tr th:only-of-type {\n",
              "        vertical-align: middle;\n",
              "    }\n",
              "\n",
              "    .dataframe tbody tr th {\n",
              "        vertical-align: top;\n",
              "    }\n",
              "\n",
              "    .dataframe thead th {\n",
              "        text-align: right;\n",
              "    }\n",
              "</style>\n",
              "<table border=\"1\" class=\"dataframe\">\n",
              "  <thead>\n",
              "    <tr style=\"text-align: right;\">\n",
              "      <th></th>\n",
              "      <th>overall</th>\n",
              "      <th>vote</th>\n",
              "      <th>verified</th>\n",
              "      <th>reviewTime</th>\n",
              "      <th>reviewerID</th>\n",
              "      <th>asin</th>\n",
              "      <th>style</th>\n",
              "      <th>reviewerName</th>\n",
              "      <th>reviewText</th>\n",
              "      <th>summary</th>\n",
              "      <th>unixReviewTime</th>\n",
              "    </tr>\n",
              "  </thead>\n",
              "  <tbody>\n",
              "    <tr>\n",
              "      <th>0</th>\n",
              "      <td>2</td>\n",
              "      <td>NaN</td>\n",
              "      <td>False</td>\n",
              "      <td>2016-11-11</td>\n",
              "      <td>A2OSUEZJIN7BI</td>\n",
              "      <td>0511189877</td>\n",
              "      <td>NaN</td>\n",
              "      <td>Chris</td>\n",
              "      <td>I have an older URC-WR7 remote and thought thi...</td>\n",
              "      <td>Cannot Learn</td>\n",
              "      <td>1478822400</td>\n",
              "    </tr>\n",
              "    <tr>\n",
              "      <th>1</th>\n",
              "      <td>5</td>\n",
              "      <td>NaN</td>\n",
              "      <td>True</td>\n",
              "      <td>2016-06-06</td>\n",
              "      <td>A2NETQRG6JHIG7</td>\n",
              "      <td>0511189877</td>\n",
              "      <td>NaN</td>\n",
              "      <td>Qrysta White</td>\n",
              "      <td>First time I've EVER had a remote that needed ...</td>\n",
              "      <td>zero programming needed!  Miracle!?</td>\n",
              "      <td>1465171200</td>\n",
              "    </tr>\n",
              "    <tr>\n",
              "      <th>2</th>\n",
              "      <td>4</td>\n",
              "      <td>NaN</td>\n",
              "      <td>True</td>\n",
              "      <td>2016-03-10</td>\n",
              "      <td>A12JHGROAX49G7</td>\n",
              "      <td>0511189877</td>\n",
              "      <td>NaN</td>\n",
              "      <td>Linwood</td>\n",
              "      <td>Got them and only 2 of them worked. company ca...</td>\n",
              "      <td>Works Good and programs easy.</td>\n",
              "      <td>1457568000</td>\n",
              "    </tr>\n",
              "    <tr>\n",
              "      <th>3</th>\n",
              "      <td>5</td>\n",
              "      <td>NaN</td>\n",
              "      <td>True</td>\n",
              "      <td>2016-01-14</td>\n",
              "      <td>A1KV65E2TMMG6F</td>\n",
              "      <td>0511189877</td>\n",
              "      <td>NaN</td>\n",
              "      <td>Dane Williams</td>\n",
              "      <td>I got tired of the remote being on the wrong s...</td>\n",
              "      <td>Same as TWC remote</td>\n",
              "      <td>1452729600</td>\n",
              "    </tr>\n",
              "    <tr>\n",
              "      <th>4</th>\n",
              "      <td>5</td>\n",
              "      <td>NaN</td>\n",
              "      <td>True</td>\n",
              "      <td>2016-10-20</td>\n",
              "      <td>A280POPEWI0NSA</td>\n",
              "      <td>0594459451</td>\n",
              "      <td>NaN</td>\n",
              "      <td>Kristina H.</td>\n",
              "      <td>After purchasing cheap cords from another webs...</td>\n",
              "      <td>Good Quality Cord</td>\n",
              "      <td>1476921600</td>\n",
              "    </tr>\n",
              "  </tbody>\n",
              "</table>\n",
              "</div>\n",
              "    <div class=\"colab-df-buttons\">\n",
              "\n",
              "  <div class=\"colab-df-container\">\n",
              "    <button class=\"colab-df-convert\" onclick=\"convertToInteractive('df-0fca51cd-9105-4d93-aae9-d74d270435dc')\"\n",
              "            title=\"Convert this dataframe to an interactive table.\"\n",
              "            style=\"display:none;\">\n",
              "\n",
              "  <svg xmlns=\"http://www.w3.org/2000/svg\" height=\"24px\" viewBox=\"0 -960 960 960\">\n",
              "    <path d=\"M120-120v-720h720v720H120Zm60-500h600v-160H180v160Zm220 220h160v-160H400v160Zm0 220h160v-160H400v160ZM180-400h160v-160H180v160Zm440 0h160v-160H620v160ZM180-180h160v-160H180v160Zm440 0h160v-160H620v160Z\"/>\n",
              "  </svg>\n",
              "    </button>\n",
              "\n",
              "  <style>\n",
              "    .colab-df-container {\n",
              "      display:flex;\n",
              "      gap: 12px;\n",
              "    }\n",
              "\n",
              "    .colab-df-convert {\n",
              "      background-color: #E8F0FE;\n",
              "      border: none;\n",
              "      border-radius: 50%;\n",
              "      cursor: pointer;\n",
              "      display: none;\n",
              "      fill: #1967D2;\n",
              "      height: 32px;\n",
              "      padding: 0 0 0 0;\n",
              "      width: 32px;\n",
              "    }\n",
              "\n",
              "    .colab-df-convert:hover {\n",
              "      background-color: #E2EBFA;\n",
              "      box-shadow: 0px 1px 2px rgba(60, 64, 67, 0.3), 0px 1px 3px 1px rgba(60, 64, 67, 0.15);\n",
              "      fill: #174EA6;\n",
              "    }\n",
              "\n",
              "    .colab-df-buttons div {\n",
              "      margin-bottom: 4px;\n",
              "    }\n",
              "\n",
              "    [theme=dark] .colab-df-convert {\n",
              "      background-color: #3B4455;\n",
              "      fill: #D2E3FC;\n",
              "    }\n",
              "\n",
              "    [theme=dark] .colab-df-convert:hover {\n",
              "      background-color: #434B5C;\n",
              "      box-shadow: 0px 1px 3px 1px rgba(0, 0, 0, 0.15);\n",
              "      filter: drop-shadow(0px 1px 2px rgba(0, 0, 0, 0.3));\n",
              "      fill: #FFFFFF;\n",
              "    }\n",
              "  </style>\n",
              "\n",
              "    <script>\n",
              "      const buttonEl =\n",
              "        document.querySelector('#df-0fca51cd-9105-4d93-aae9-d74d270435dc button.colab-df-convert');\n",
              "      buttonEl.style.display =\n",
              "        google.colab.kernel.accessAllowed ? 'block' : 'none';\n",
              "\n",
              "      async function convertToInteractive(key) {\n",
              "        const element = document.querySelector('#df-0fca51cd-9105-4d93-aae9-d74d270435dc');\n",
              "        const dataTable =\n",
              "          await google.colab.kernel.invokeFunction('convertToInteractive',\n",
              "                                                    [key], {});\n",
              "        if (!dataTable) return;\n",
              "\n",
              "        const docLinkHtml = 'Like what you see? Visit the ' +\n",
              "          '<a target=\"_blank\" href=https://colab.research.google.com/notebooks/data_table.ipynb>data table notebook</a>'\n",
              "          + ' to learn more about interactive tables.';\n",
              "        element.innerHTML = '';\n",
              "        dataTable['output_type'] = 'display_data';\n",
              "        await google.colab.output.renderOutput(dataTable, element);\n",
              "        const docLink = document.createElement('div');\n",
              "        docLink.innerHTML = docLinkHtml;\n",
              "        element.appendChild(docLink);\n",
              "      }\n",
              "    </script>\n",
              "  </div>\n",
              "\n",
              "\n",
              "<div id=\"df-1440119c-54f6-4bc0-95f6-0cb3b3c648e0\">\n",
              "  <button class=\"colab-df-quickchart\" onclick=\"quickchart('df-1440119c-54f6-4bc0-95f6-0cb3b3c648e0')\"\n",
              "            title=\"Suggest charts\"\n",
              "            style=\"display:none;\">\n",
              "\n",
              "<svg xmlns=\"http://www.w3.org/2000/svg\" height=\"24px\"viewBox=\"0 0 24 24\"\n",
              "     width=\"24px\">\n",
              "    <g>\n",
              "        <path d=\"M19 3H5c-1.1 0-2 .9-2 2v14c0 1.1.9 2 2 2h14c1.1 0 2-.9 2-2V5c0-1.1-.9-2-2-2zM9 17H7v-7h2v7zm4 0h-2V7h2v10zm4 0h-2v-4h2v4z\"/>\n",
              "    </g>\n",
              "</svg>\n",
              "  </button>\n",
              "\n",
              "<style>\n",
              "  .colab-df-quickchart {\n",
              "      --bg-color: #E8F0FE;\n",
              "      --fill-color: #1967D2;\n",
              "      --hover-bg-color: #E2EBFA;\n",
              "      --hover-fill-color: #174EA6;\n",
              "      --disabled-fill-color: #AAA;\n",
              "      --disabled-bg-color: #DDD;\n",
              "  }\n",
              "\n",
              "  [theme=dark] .colab-df-quickchart {\n",
              "      --bg-color: #3B4455;\n",
              "      --fill-color: #D2E3FC;\n",
              "      --hover-bg-color: #434B5C;\n",
              "      --hover-fill-color: #FFFFFF;\n",
              "      --disabled-bg-color: #3B4455;\n",
              "      --disabled-fill-color: #666;\n",
              "  }\n",
              "\n",
              "  .colab-df-quickchart {\n",
              "    background-color: var(--bg-color);\n",
              "    border: none;\n",
              "    border-radius: 50%;\n",
              "    cursor: pointer;\n",
              "    display: none;\n",
              "    fill: var(--fill-color);\n",
              "    height: 32px;\n",
              "    padding: 0;\n",
              "    width: 32px;\n",
              "  }\n",
              "\n",
              "  .colab-df-quickchart:hover {\n",
              "    background-color: var(--hover-bg-color);\n",
              "    box-shadow: 0 1px 2px rgba(60, 64, 67, 0.3), 0 1px 3px 1px rgba(60, 64, 67, 0.15);\n",
              "    fill: var(--button-hover-fill-color);\n",
              "  }\n",
              "\n",
              "  .colab-df-quickchart-complete:disabled,\n",
              "  .colab-df-quickchart-complete:disabled:hover {\n",
              "    background-color: var(--disabled-bg-color);\n",
              "    fill: var(--disabled-fill-color);\n",
              "    box-shadow: none;\n",
              "  }\n",
              "\n",
              "  .colab-df-spinner {\n",
              "    border: 2px solid var(--fill-color);\n",
              "    border-color: transparent;\n",
              "    border-bottom-color: var(--fill-color);\n",
              "    animation:\n",
              "      spin 1s steps(1) infinite;\n",
              "  }\n",
              "\n",
              "  @keyframes spin {\n",
              "    0% {\n",
              "      border-color: transparent;\n",
              "      border-bottom-color: var(--fill-color);\n",
              "      border-left-color: var(--fill-color);\n",
              "    }\n",
              "    20% {\n",
              "      border-color: transparent;\n",
              "      border-left-color: var(--fill-color);\n",
              "      border-top-color: var(--fill-color);\n",
              "    }\n",
              "    30% {\n",
              "      border-color: transparent;\n",
              "      border-left-color: var(--fill-color);\n",
              "      border-top-color: var(--fill-color);\n",
              "      border-right-color: var(--fill-color);\n",
              "    }\n",
              "    40% {\n",
              "      border-color: transparent;\n",
              "      border-right-color: var(--fill-color);\n",
              "      border-top-color: var(--fill-color);\n",
              "    }\n",
              "    60% {\n",
              "      border-color: transparent;\n",
              "      border-right-color: var(--fill-color);\n",
              "    }\n",
              "    80% {\n",
              "      border-color: transparent;\n",
              "      border-right-color: var(--fill-color);\n",
              "      border-bottom-color: var(--fill-color);\n",
              "    }\n",
              "    90% {\n",
              "      border-color: transparent;\n",
              "      border-bottom-color: var(--fill-color);\n",
              "    }\n",
              "  }\n",
              "</style>\n",
              "\n",
              "  <script>\n",
              "    async function quickchart(key) {\n",
              "      const quickchartButtonEl =\n",
              "        document.querySelector('#' + key + ' button');\n",
              "      quickchartButtonEl.disabled = true;  // To prevent multiple clicks.\n",
              "      quickchartButtonEl.classList.add('colab-df-spinner');\n",
              "      try {\n",
              "        const charts = await google.colab.kernel.invokeFunction(\n",
              "            'suggestCharts', [key], {});\n",
              "      } catch (error) {\n",
              "        console.error('Error during call to suggestCharts:', error);\n",
              "      }\n",
              "      quickchartButtonEl.classList.remove('colab-df-spinner');\n",
              "      quickchartButtonEl.classList.add('colab-df-quickchart-complete');\n",
              "    }\n",
              "    (() => {\n",
              "      let quickchartButtonEl =\n",
              "        document.querySelector('#df-1440119c-54f6-4bc0-95f6-0cb3b3c648e0 button');\n",
              "      quickchartButtonEl.style.display =\n",
              "        google.colab.kernel.accessAllowed ? 'block' : 'none';\n",
              "    })();\n",
              "  </script>\n",
              "</div>\n",
              "    </div>\n",
              "  </div>\n"
            ]
          },
          "metadata": {},
          "execution_count": 5
        }
      ]
    },
    {
      "cell_type": "code",
      "source": [
        "train.describe()"
      ],
      "metadata": {
        "colab": {
          "base_uri": "https://localhost:8080/",
          "height": 300
        },
        "id": "qHxkjIlziOJW",
        "outputId": "09d0003f-5479-4df0-8b4d-d56269388236"
      },
      "execution_count": 6,
      "outputs": [
        {
          "output_type": "execute_result",
          "data": {
            "text/plain": [
              "             overall  unixReviewTime\n",
              "count  838944.000000    8.389440e+05\n",
              "mean        4.021317    1.483167e+09\n",
              "std         1.344223    2.229270e+07\n",
              "min         1.000000    1.451606e+09\n",
              "25%         3.000000    1.464653e+09\n",
              "50%         5.000000    1.479254e+09\n",
              "75%         5.000000    1.499472e+09\n",
              "max         5.000000    1.538525e+09"
            ],
            "text/html": [
              "\n",
              "  <div id=\"df-134a5728-c6b3-4529-83c4-c9949aad394a\" class=\"colab-df-container\">\n",
              "    <div>\n",
              "<style scoped>\n",
              "    .dataframe tbody tr th:only-of-type {\n",
              "        vertical-align: middle;\n",
              "    }\n",
              "\n",
              "    .dataframe tbody tr th {\n",
              "        vertical-align: top;\n",
              "    }\n",
              "\n",
              "    .dataframe thead th {\n",
              "        text-align: right;\n",
              "    }\n",
              "</style>\n",
              "<table border=\"1\" class=\"dataframe\">\n",
              "  <thead>\n",
              "    <tr style=\"text-align: right;\">\n",
              "      <th></th>\n",
              "      <th>overall</th>\n",
              "      <th>unixReviewTime</th>\n",
              "    </tr>\n",
              "  </thead>\n",
              "  <tbody>\n",
              "    <tr>\n",
              "      <th>count</th>\n",
              "      <td>838944.000000</td>\n",
              "      <td>8.389440e+05</td>\n",
              "    </tr>\n",
              "    <tr>\n",
              "      <th>mean</th>\n",
              "      <td>4.021317</td>\n",
              "      <td>1.483167e+09</td>\n",
              "    </tr>\n",
              "    <tr>\n",
              "      <th>std</th>\n",
              "      <td>1.344223</td>\n",
              "      <td>2.229270e+07</td>\n",
              "    </tr>\n",
              "    <tr>\n",
              "      <th>min</th>\n",
              "      <td>1.000000</td>\n",
              "      <td>1.451606e+09</td>\n",
              "    </tr>\n",
              "    <tr>\n",
              "      <th>25%</th>\n",
              "      <td>3.000000</td>\n",
              "      <td>1.464653e+09</td>\n",
              "    </tr>\n",
              "    <tr>\n",
              "      <th>50%</th>\n",
              "      <td>5.000000</td>\n",
              "      <td>1.479254e+09</td>\n",
              "    </tr>\n",
              "    <tr>\n",
              "      <th>75%</th>\n",
              "      <td>5.000000</td>\n",
              "      <td>1.499472e+09</td>\n",
              "    </tr>\n",
              "    <tr>\n",
              "      <th>max</th>\n",
              "      <td>5.000000</td>\n",
              "      <td>1.538525e+09</td>\n",
              "    </tr>\n",
              "  </tbody>\n",
              "</table>\n",
              "</div>\n",
              "    <div class=\"colab-df-buttons\">\n",
              "\n",
              "  <div class=\"colab-df-container\">\n",
              "    <button class=\"colab-df-convert\" onclick=\"convertToInteractive('df-134a5728-c6b3-4529-83c4-c9949aad394a')\"\n",
              "            title=\"Convert this dataframe to an interactive table.\"\n",
              "            style=\"display:none;\">\n",
              "\n",
              "  <svg xmlns=\"http://www.w3.org/2000/svg\" height=\"24px\" viewBox=\"0 -960 960 960\">\n",
              "    <path d=\"M120-120v-720h720v720H120Zm60-500h600v-160H180v160Zm220 220h160v-160H400v160Zm0 220h160v-160H400v160ZM180-400h160v-160H180v160Zm440 0h160v-160H620v160ZM180-180h160v-160H180v160Zm440 0h160v-160H620v160Z\"/>\n",
              "  </svg>\n",
              "    </button>\n",
              "\n",
              "  <style>\n",
              "    .colab-df-container {\n",
              "      display:flex;\n",
              "      gap: 12px;\n",
              "    }\n",
              "\n",
              "    .colab-df-convert {\n",
              "      background-color: #E8F0FE;\n",
              "      border: none;\n",
              "      border-radius: 50%;\n",
              "      cursor: pointer;\n",
              "      display: none;\n",
              "      fill: #1967D2;\n",
              "      height: 32px;\n",
              "      padding: 0 0 0 0;\n",
              "      width: 32px;\n",
              "    }\n",
              "\n",
              "    .colab-df-convert:hover {\n",
              "      background-color: #E2EBFA;\n",
              "      box-shadow: 0px 1px 2px rgba(60, 64, 67, 0.3), 0px 1px 3px 1px rgba(60, 64, 67, 0.15);\n",
              "      fill: #174EA6;\n",
              "    }\n",
              "\n",
              "    .colab-df-buttons div {\n",
              "      margin-bottom: 4px;\n",
              "    }\n",
              "\n",
              "    [theme=dark] .colab-df-convert {\n",
              "      background-color: #3B4455;\n",
              "      fill: #D2E3FC;\n",
              "    }\n",
              "\n",
              "    [theme=dark] .colab-df-convert:hover {\n",
              "      background-color: #434B5C;\n",
              "      box-shadow: 0px 1px 3px 1px rgba(0, 0, 0, 0.15);\n",
              "      filter: drop-shadow(0px 1px 2px rgba(0, 0, 0, 0.3));\n",
              "      fill: #FFFFFF;\n",
              "    }\n",
              "  </style>\n",
              "\n",
              "    <script>\n",
              "      const buttonEl =\n",
              "        document.querySelector('#df-134a5728-c6b3-4529-83c4-c9949aad394a button.colab-df-convert');\n",
              "      buttonEl.style.display =\n",
              "        google.colab.kernel.accessAllowed ? 'block' : 'none';\n",
              "\n",
              "      async function convertToInteractive(key) {\n",
              "        const element = document.querySelector('#df-134a5728-c6b3-4529-83c4-c9949aad394a');\n",
              "        const dataTable =\n",
              "          await google.colab.kernel.invokeFunction('convertToInteractive',\n",
              "                                                    [key], {});\n",
              "        if (!dataTable) return;\n",
              "\n",
              "        const docLinkHtml = 'Like what you see? Visit the ' +\n",
              "          '<a target=\"_blank\" href=https://colab.research.google.com/notebooks/data_table.ipynb>data table notebook</a>'\n",
              "          + ' to learn more about interactive tables.';\n",
              "        element.innerHTML = '';\n",
              "        dataTable['output_type'] = 'display_data';\n",
              "        await google.colab.output.renderOutput(dataTable, element);\n",
              "        const docLink = document.createElement('div');\n",
              "        docLink.innerHTML = docLinkHtml;\n",
              "        element.appendChild(docLink);\n",
              "      }\n",
              "    </script>\n",
              "  </div>\n",
              "\n",
              "\n",
              "<div id=\"df-ff202a46-2f1f-4f36-a91a-6ecfbb561c60\">\n",
              "  <button class=\"colab-df-quickchart\" onclick=\"quickchart('df-ff202a46-2f1f-4f36-a91a-6ecfbb561c60')\"\n",
              "            title=\"Suggest charts\"\n",
              "            style=\"display:none;\">\n",
              "\n",
              "<svg xmlns=\"http://www.w3.org/2000/svg\" height=\"24px\"viewBox=\"0 0 24 24\"\n",
              "     width=\"24px\">\n",
              "    <g>\n",
              "        <path d=\"M19 3H5c-1.1 0-2 .9-2 2v14c0 1.1.9 2 2 2h14c1.1 0 2-.9 2-2V5c0-1.1-.9-2-2-2zM9 17H7v-7h2v7zm4 0h-2V7h2v10zm4 0h-2v-4h2v4z\"/>\n",
              "    </g>\n",
              "</svg>\n",
              "  </button>\n",
              "\n",
              "<style>\n",
              "  .colab-df-quickchart {\n",
              "      --bg-color: #E8F0FE;\n",
              "      --fill-color: #1967D2;\n",
              "      --hover-bg-color: #E2EBFA;\n",
              "      --hover-fill-color: #174EA6;\n",
              "      --disabled-fill-color: #AAA;\n",
              "      --disabled-bg-color: #DDD;\n",
              "  }\n",
              "\n",
              "  [theme=dark] .colab-df-quickchart {\n",
              "      --bg-color: #3B4455;\n",
              "      --fill-color: #D2E3FC;\n",
              "      --hover-bg-color: #434B5C;\n",
              "      --hover-fill-color: #FFFFFF;\n",
              "      --disabled-bg-color: #3B4455;\n",
              "      --disabled-fill-color: #666;\n",
              "  }\n",
              "\n",
              "  .colab-df-quickchart {\n",
              "    background-color: var(--bg-color);\n",
              "    border: none;\n",
              "    border-radius: 50%;\n",
              "    cursor: pointer;\n",
              "    display: none;\n",
              "    fill: var(--fill-color);\n",
              "    height: 32px;\n",
              "    padding: 0;\n",
              "    width: 32px;\n",
              "  }\n",
              "\n",
              "  .colab-df-quickchart:hover {\n",
              "    background-color: var(--hover-bg-color);\n",
              "    box-shadow: 0 1px 2px rgba(60, 64, 67, 0.3), 0 1px 3px 1px rgba(60, 64, 67, 0.15);\n",
              "    fill: var(--button-hover-fill-color);\n",
              "  }\n",
              "\n",
              "  .colab-df-quickchart-complete:disabled,\n",
              "  .colab-df-quickchart-complete:disabled:hover {\n",
              "    background-color: var(--disabled-bg-color);\n",
              "    fill: var(--disabled-fill-color);\n",
              "    box-shadow: none;\n",
              "  }\n",
              "\n",
              "  .colab-df-spinner {\n",
              "    border: 2px solid var(--fill-color);\n",
              "    border-color: transparent;\n",
              "    border-bottom-color: var(--fill-color);\n",
              "    animation:\n",
              "      spin 1s steps(1) infinite;\n",
              "  }\n",
              "\n",
              "  @keyframes spin {\n",
              "    0% {\n",
              "      border-color: transparent;\n",
              "      border-bottom-color: var(--fill-color);\n",
              "      border-left-color: var(--fill-color);\n",
              "    }\n",
              "    20% {\n",
              "      border-color: transparent;\n",
              "      border-left-color: var(--fill-color);\n",
              "      border-top-color: var(--fill-color);\n",
              "    }\n",
              "    30% {\n",
              "      border-color: transparent;\n",
              "      border-left-color: var(--fill-color);\n",
              "      border-top-color: var(--fill-color);\n",
              "      border-right-color: var(--fill-color);\n",
              "    }\n",
              "    40% {\n",
              "      border-color: transparent;\n",
              "      border-right-color: var(--fill-color);\n",
              "      border-top-color: var(--fill-color);\n",
              "    }\n",
              "    60% {\n",
              "      border-color: transparent;\n",
              "      border-right-color: var(--fill-color);\n",
              "    }\n",
              "    80% {\n",
              "      border-color: transparent;\n",
              "      border-right-color: var(--fill-color);\n",
              "      border-bottom-color: var(--fill-color);\n",
              "    }\n",
              "    90% {\n",
              "      border-color: transparent;\n",
              "      border-bottom-color: var(--fill-color);\n",
              "    }\n",
              "  }\n",
              "</style>\n",
              "\n",
              "  <script>\n",
              "    async function quickchart(key) {\n",
              "      const quickchartButtonEl =\n",
              "        document.querySelector('#' + key + ' button');\n",
              "      quickchartButtonEl.disabled = true;  // To prevent multiple clicks.\n",
              "      quickchartButtonEl.classList.add('colab-df-spinner');\n",
              "      try {\n",
              "        const charts = await google.colab.kernel.invokeFunction(\n",
              "            'suggestCharts', [key], {});\n",
              "      } catch (error) {\n",
              "        console.error('Error during call to suggestCharts:', error);\n",
              "      }\n",
              "      quickchartButtonEl.classList.remove('colab-df-spinner');\n",
              "      quickchartButtonEl.classList.add('colab-df-quickchart-complete');\n",
              "    }\n",
              "    (() => {\n",
              "      let quickchartButtonEl =\n",
              "        document.querySelector('#df-ff202a46-2f1f-4f36-a91a-6ecfbb561c60 button');\n",
              "      quickchartButtonEl.style.display =\n",
              "        google.colab.kernel.accessAllowed ? 'block' : 'none';\n",
              "    })();\n",
              "  </script>\n",
              "</div>\n",
              "    </div>\n",
              "  </div>\n"
            ]
          },
          "metadata": {},
          "execution_count": 6
        }
      ]
    },
    {
      "cell_type": "code",
      "source": [
        "train.info()"
      ],
      "metadata": {
        "colab": {
          "base_uri": "https://localhost:8080/"
        },
        "id": "srIm7jG7iPw4",
        "outputId": "0971c039-1b44-42d0-d8a5-321b4846a98e"
      },
      "execution_count": 7,
      "outputs": [
        {
          "output_type": "stream",
          "name": "stdout",
          "text": [
            "<class 'pandas.core.frame.DataFrame'>\n",
            "RangeIndex: 838944 entries, 0 to 838943\n",
            "Data columns (total 11 columns):\n",
            " #   Column          Non-Null Count   Dtype \n",
            "---  ------          --------------   ----- \n",
            " 0   overall         838944 non-null  int64 \n",
            " 1   vote            191468 non-null  object\n",
            " 2   verified        838944 non-null  bool  \n",
            " 3   reviewTime      838944 non-null  object\n",
            " 4   reviewerID      838944 non-null  object\n",
            " 5   asin            838944 non-null  object\n",
            " 6   style           490613 non-null  object\n",
            " 7   reviewerName    838742 non-null  object\n",
            " 8   reviewText      838944 non-null  object\n",
            " 9   summary         838869 non-null  object\n",
            " 10  unixReviewTime  838944 non-null  int64 \n",
            "dtypes: bool(1), int64(2), object(8)\n",
            "memory usage: 64.8+ MB\n"
          ]
        }
      ]
    },
    {
      "cell_type": "code",
      "source": [
        "print(train.isnull().sum()/len(train)*100)"
      ],
      "metadata": {
        "colab": {
          "base_uri": "https://localhost:8080/"
        },
        "id": "IzdmsmhoiRpP",
        "outputId": "962f2a04-b53d-4a36-b60f-fa3f1ad12acc"
      },
      "execution_count": 8,
      "outputs": [
        {
          "output_type": "stream",
          "name": "stdout",
          "text": [
            "overall            0.000000\n",
            "vote              77.177499\n",
            "verified           0.000000\n",
            "reviewTime         0.000000\n",
            "reviewerID         0.000000\n",
            "asin               0.000000\n",
            "style             41.520173\n",
            "reviewerName       0.024078\n",
            "reviewText         0.000000\n",
            "summary            0.008940\n",
            "unixReviewTime     0.000000\n",
            "dtype: float64\n"
          ]
        }
      ]
    },
    {
      "cell_type": "markdown",
      "source": [
        "# Preprocessing"
      ],
      "metadata": {
        "id": "gMPnqZryv1VZ"
      }
    },
    {
      "cell_type": "markdown",
      "source": [
        "### 1. Converting the review text into a long string:"
      ],
      "metadata": {
        "id": "7TpxagALKK9m"
      }
    },
    {
      "cell_type": "markdown",
      "source": [
        "first of all, concatenates all the review texts from the train dataset into a single string called raw_corpus."
      ],
      "metadata": {
        "id": "quV4isTWKcB-"
      }
    },
    {
      "cell_type": "code",
      "source": [
        "# Convert all the review text into a long string and print its length\n",
        "raw_corpus = u''.join(train['reviewText']+\" \")\n",
        "print(\"Raw Corpus contains {0:,} characters\".format(len(raw_corpus)))"
      ],
      "metadata": {
        "colab": {
          "base_uri": "https://localhost:8080/"
        },
        "id": "6drmtzLjixmY",
        "outputId": "b8afb5b4-b5f5-41ba-c8e4-dbae4b71b344"
      },
      "execution_count": 9,
      "outputs": [
        {
          "output_type": "stream",
          "name": "stdout",
          "text": [
            "Raw Corpus contains 524,916,677 characters\n"
          ]
        }
      ]
    },
    {
      "cell_type": "markdown",
      "source": [
        "### 2. Downloading and loading the punkt tokenizer:"
      ],
      "metadata": {
        "id": "Q9TUFCzZLQU3"
      }
    },
    {
      "cell_type": "markdown",
      "source": [
        "now, uses the Natural Language Toolkit (NLTK) to download the punkt tokenizer, which is a pre-trained tokenizer for English."
      ],
      "metadata": {
        "id": "4wQls9_ULj1X"
      }
    },
    {
      "cell_type": "code",
      "source": [
        "# import natural language toolkit\n",
        "import nltk\n",
        "\n",
        "# download the punkt tokenizer\n",
        "nltk.download('punkt')\n",
        "print(\"The punkt tokenizer is downloaded\")"
      ],
      "metadata": {
        "colab": {
          "base_uri": "https://localhost:8080/"
        },
        "id": "NmTAXKEDizId",
        "outputId": "49d5592c-a9c0-4470-f6a6-db21f1a90947"
      },
      "execution_count": 10,
      "outputs": [
        {
          "output_type": "stream",
          "name": "stderr",
          "text": [
            "[nltk_data] Downloading package punkt to /root/nltk_data...\n",
            "[nltk_data]   Unzipping tokenizers/punkt.zip.\n"
          ]
        },
        {
          "output_type": "stream",
          "name": "stdout",
          "text": [
            "The punkt tokenizer is downloaded\n"
          ]
        }
      ]
    },
    {
      "cell_type": "markdown",
      "source": [
        "### 3. Tokenizing the raw corpus into sentences:"
      ],
      "metadata": {
        "id": "StQWp_WCLvvs"
      }
    },
    {
      "cell_type": "markdown",
      "source": [
        "after that loads the tokenizer, now it's time to tokenizes the raw corpus into sentences using the loaded punkt tokenizer. The resulting sentences are stored in the raw_sentences list, and the code prints the number of raw sentences."
      ],
      "metadata": {
        "id": "MRc-27iMLq-D"
      }
    },
    {
      "cell_type": "code",
      "source": [
        "# Load the punkt tokenizer\n",
        "tokenizer = nltk.data.load(\"tokenizers/punkt/english.pickle\")\n",
        "print(\"The punkt tokenizer is loaded\")\n",
        "\n",
        "# we tokenize the raw string into raw sentences\n",
        "raw_sentences = tokenizer.tokenize(raw_corpus)\n",
        "print(\"We have {0:,} raw sentences\".format(len(raw_sentences)))"
      ],
      "metadata": {
        "colab": {
          "base_uri": "https://localhost:8080/"
        },
        "id": "5KzhCUtRi1G5",
        "outputId": "200aec29-7d2c-4ad2-c26d-b1b9268cab04"
      },
      "execution_count": 11,
      "outputs": [
        {
          "output_type": "stream",
          "name": "stdout",
          "text": [
            "The punkt tokenizer is loaded\n",
            "We have 6,074,937 raw sentences\n"
          ]
        }
      ]
    },
    {
      "cell_type": "markdown",
      "source": [
        "### 4. Cleaning and splitting sentences into words:"
      ],
      "metadata": {
        "id": "zp0iyMkKMFhl"
      }
    },
    {
      "cell_type": "markdown",
      "source": [
        "This code defines a function called clean_and_split_str that removes special characters from a string and splits it into a list of words. It then applies this function to each raw sentence in raw_sentences and builds a list of cleaned sentences called sentences. The code prints the number of clean sentences."
      ],
      "metadata": {
        "id": "VHoT24y5MHLG"
      }
    },
    {
      "cell_type": "code",
      "source": [
        "import re\n",
        "\n",
        "# Clean and split sentence into words\n",
        "def clean_and_split_str(string):\n",
        "    strip_special_chars = re.compile(\"[^A-Za-z]+\")\n",
        "    string = re.sub(strip_special_chars, \" \", string)\n",
        "    return string.strip().split()"
      ],
      "metadata": {
        "id": "8kNQCDnui42_"
      },
      "execution_count": 12,
      "outputs": []
    },
    {
      "cell_type": "code",
      "source": [
        "# clean each raw sentences and build the list of sentences\n",
        "sentences = []\n",
        "for raw_sent in raw_sentences:\n",
        "    if len(raw_sent) > 0:\n",
        "        sentences.append(clean_and_split_str(raw_sent))\n",
        "print(\"We have {0:,} clean sentences\".format(len(sentences)))"
      ],
      "metadata": {
        "colab": {
          "base_uri": "https://localhost:8080/"
        },
        "id": "D2ziMK8ri6UK",
        "outputId": "c2422316-4779-4d42-8bb9-8b5e183fc373"
      },
      "execution_count": 13,
      "outputs": [
        {
          "output_type": "stream",
          "name": "stdout",
          "text": [
            "We have 6,074,937 clean sentences\n"
          ]
        }
      ]
    },
    {
      "cell_type": "code",
      "source": [
        "print(raw_sentences[1])\n",
        "print()\n",
        "print(sentences[1])"
      ],
      "metadata": {
        "colab": {
          "base_uri": "https://localhost:8080/"
        },
        "id": "dE5ZXI3Ei8Sh",
        "outputId": "fa2d3bcb-5e75-414e-bd41-20c9a11222f9"
      },
      "execution_count": 14,
      "outputs": [
        {
          "output_type": "stream",
          "name": "stdout",
          "text": [
            "The old remote could go head to head and learn.\n",
            "\n",
            "['The', 'old', 'remote', 'could', 'go', 'head', 'to', 'head', 'and', 'learn']\n"
          ]
        }
      ]
    },
    {
      "cell_type": "markdown",
      "source": [
        "### 5. Counting the number of tokens:"
      ],
      "metadata": {
        "id": "4KfBBUkAMQaU"
      }
    },
    {
      "cell_type": "markdown",
      "source": [
        " This code calculates the total number of tokens in the dataset corpus by summing the lengths of all sentences in sentences. It then prints the token count."
      ],
      "metadata": {
        "id": "ld2hzme5MVYu"
      }
    },
    {
      "cell_type": "code",
      "source": [
        "token_count = sum([len(sentence) for sentence in sentences])\n",
        "print(\"The dataset corpus contains {0:,} tokens\".format(token_count))"
      ],
      "metadata": {
        "colab": {
          "base_uri": "https://localhost:8080/"
        },
        "id": "aCiz2PDHi_jm",
        "outputId": "6526f9ac-4493-4530-b64e-9d45e988d798"
      },
      "execution_count": 15,
      "outputs": [
        {
          "output_type": "stream",
          "name": "stdout",
          "text": [
            "The dataset corpus contains 98,273,268 tokens\n"
          ]
        }
      ]
    },
    {
      "cell_type": "markdown",
      "source": [
        "# Word2Vec"
      ],
      "metadata": {
        "id": "wrTFMb7YwMDo"
      }
    },
    {
      "cell_type": "markdown",
      "source": [
        "### 6. Setting Word2Vec parameters:"
      ],
      "metadata": {
        "id": "WSmv5TCbMdbW"
      }
    },
    {
      "cell_type": "markdown",
      "source": [
        "This code sets various parameters for the Word2Vec model, such as the dimensionality of word vectors (num_features), minimum word count threshold (min_word_count), number of parallel workers (num_workers), context window length (context_size), and the seed for reproducibility (seed)."
      ],
      "metadata": {
        "id": "GNy2FFmlMjxG"
      }
    },
    {
      "cell_type": "code",
      "source": [
        "import gensim\n",
        "from gensim.models import Word2Vec, callbacks"
      ],
      "metadata": {
        "id": "OLzBcIjBisV3"
      },
      "execution_count": 21,
      "outputs": []
    },
    {
      "cell_type": "code",
      "source": [
        "import multiprocessing\n",
        "\n",
        "#Dimensionality of the resulting word vectors\n",
        "num_features = 300\n",
        "\n",
        "#Minimum word count threshold\n",
        "min_word_count = 2\n",
        "\n",
        "#Number of threads to run in parallel\n",
        "num_workers = multiprocessing.cpu_count()\n",
        "\n",
        "#Context window length\n",
        "context_size = 10\n",
        "\n",
        "#Seed for the RNG, to make the result reproducible\n",
        "seed = 1"
      ],
      "metadata": {
        "id": "5CTIGZYbjBKW"
      },
      "execution_count": 17,
      "outputs": []
    },
    {
      "cell_type": "code",
      "source": [
        "# Define a callback to print progress\n",
        "class callback(callbacks.CallbackAny2Vec):\n",
        "    def __init__(self):\n",
        "        self.epoch = 0\n",
        "\n",
        "    def on_epoch_end(self, model):\n",
        "        print(f\"Epoch: {self.epoch}\")\n",
        "        self.epoch += 1"
      ],
      "metadata": {
        "id": "x6JKbsCW93C3"
      },
      "execution_count": 22,
      "outputs": []
    },
    {
      "cell_type": "code",
      "source": [
        "model = Word2Vec(\n",
        "    sg=1,\n",
        "    seed=seed,\n",
        "    workers=num_workers,\n",
        "    vector_size=num_features,\n",
        "    min_count=min_word_count,\n",
        "    window=context_size,\n",
        "    callbacks=[callback()])"
      ],
      "metadata": {
        "colab": {
          "base_uri": "https://localhost:8080/"
        },
        "id": "Xaxd50j9jFQ_",
        "outputId": "3050ee2e-ff8c-4f68-91ed-0a5808e17b7e"
      },
      "execution_count": 23,
      "outputs": [
        {
          "output_type": "stream",
          "name": "stderr",
          "text": [
            "WARNING:gensim.models.word2vec:Callbacks are no longer retained by the model, so must be provided whenever training is triggered, as in initialization with a corpus or calling `train()`. The callbacks provided in this initialization without triggering train will be ignored.\n"
          ]
        }
      ]
    },
    {
      "cell_type": "markdown",
      "source": [
        "### 7. Building the vocabulary:"
      ],
      "metadata": {
        "id": "nhQmnPSFMorW"
      }
    },
    {
      "cell_type": "markdown",
      "source": [
        " This code initializes a Word2Vec model with the specified parameters and builds the vocabulary based on the sentences list."
      ],
      "metadata": {
        "id": "_Lpyvy3GMrZA"
      }
    },
    {
      "cell_type": "code",
      "source": [
        "model.build_vocab(sentences)\n",
        "print(\"The vocabulary is built\")\n",
        "print(\"Word2Vec vocabulary length: \", len(model.wv))"
      ],
      "metadata": {
        "colab": {
          "base_uri": "https://localhost:8080/"
        },
        "id": "JraxBXpljHJu",
        "outputId": "77d091ee-9183-4540-eaf0-e3b36b92651e"
      },
      "execution_count": 24,
      "outputs": [
        {
          "output_type": "stream",
          "name": "stdout",
          "text": [
            "The vocabulary is built\n",
            "Word2Vec vocabulary length:  123874\n"
          ]
        }
      ]
    },
    {
      "cell_type": "markdown",
      "source": [
        "### 8. Training the Word2Vec model:"
      ],
      "metadata": {
        "id": "aH8cYg7IMt_-"
      }
    },
    {
      "cell_type": "markdown",
      "source": [
        " This code trains the Word2Vec model on the sentences data for a specified number of epochs."
      ],
      "metadata": {
        "id": "8FoLd1vwMxlu"
      }
    },
    {
      "cell_type": "code",
      "source": [
        "#for epoch in tqdm(range(2), unit='epoch', desc='Training'):\n",
        "#Start training the model\n",
        "model.train(sentences, total_examples=model.corpus_count, epochs=model.epochs)\n",
        "print(\"Training finished\")"
      ],
      "metadata": {
        "colab": {
          "base_uri": "https://localhost:8080/"
        },
        "id": "QIbuOyDkjJWM",
        "outputId": "98e6c095-4e70-4f18-e42c-8322e1ee880f"
      },
      "execution_count": 25,
      "outputs": [
        {
          "output_type": "stream",
          "name": "stdout",
          "text": [
            "Training finished\n"
          ]
        }
      ]
    },
    {
      "cell_type": "code",
      "source": [
        "#Save the model\n",
        "model.save(\"model_trained.w2v\")\n",
        "print(\"Model saved\")"
      ],
      "metadata": {
        "colab": {
          "base_uri": "https://localhost:8080/"
        },
        "id": "XvI_XJjojK52",
        "outputId": "5cb071cd-77f9-4cfd-bb02-7c5f791e303f"
      },
      "execution_count": 27,
      "outputs": [
        {
          "output_type": "stream",
          "name": "stdout",
          "text": [
            "Model saved\n"
          ]
        }
      ]
    },
    {
      "cell_type": "code",
      "source": [
        "#model = Word2Vec.load(\"model_trained.w2v\")"
      ],
      "metadata": {
        "id": "diP_r_UTjMp0"
      },
      "execution_count": null,
      "outputs": []
    },
    {
      "cell_type": "markdown",
      "source": [
        "### 9. Accessing word vectors:"
      ],
      "metadata": {
        "id": "do2qBR8uM32U"
      }
    },
    {
      "cell_type": "markdown",
      "source": [
        " This code demonstrates how to access word vectors for specific words like \"guarantee\" and \"warranty\" using the trained Word2Vec model."
      ],
      "metadata": {
        "id": "8L2ghhQ3M7W1"
      }
    },
    {
      "cell_type": "code",
      "source": [
        "model.wv['guarantee']"
      ],
      "metadata": {
        "colab": {
          "base_uri": "https://localhost:8080/"
        },
        "id": "ZmlnLFWbk6dh",
        "outputId": "1a6b527d-9a7f-48cf-ca55-e9f3c28935fc"
      },
      "execution_count": 29,
      "outputs": [
        {
          "output_type": "execute_result",
          "data": {
            "text/plain": [
              "array([-2.84487963e-01,  3.31140816e-01,  3.64683545e-03,  4.67182487e-01,\n",
              "        4.38814431e-01,  4.35384596e-03,  8.41035917e-02,  2.81636447e-01,\n",
              "        2.40669310e-01, -4.85179275e-01,  1.84834197e-01, -1.08073100e-01,\n",
              "       -1.06564559e-01,  6.30863011e-02, -2.40720674e-01, -5.28391674e-02,\n",
              "       -4.16897237e-02, -8.93300474e-02, -2.12909997e-01,  8.22590068e-02,\n",
              "       -2.51310349e-01,  1.75550178e-01, -2.65494853e-01,  2.20485196e-01,\n",
              "        4.41681862e-01, -3.51893157e-01, -4.66443777e-01, -1.07197762e-01,\n",
              "        1.02606498e-01,  4.25879985e-01,  8.66236761e-02, -4.08219457e-01,\n",
              "        2.05815017e-01, -8.57402459e-02, -4.96200621e-02, -1.55240417e-01,\n",
              "       -3.21695171e-02, -1.08748749e-02, -1.08724289e-01,  1.10432088e-01,\n",
              "        1.83910459e-01,  3.30199391e-01,  1.40962496e-01,  4.25541326e-02,\n",
              "        1.88978612e-01, -3.41069341e-01,  2.17599452e-01, -2.43912235e-01,\n",
              "       -3.48832548e-01,  8.19082931e-02,  3.68453674e-02, -5.38201146e-02,\n",
              "       -3.79666686e-01,  7.18589546e-03, -6.97547421e-02,  3.30011547e-01,\n",
              "        1.16314679e-01, -1.13467693e-01,  1.12493545e-01,  2.41424963e-01,\n",
              "       -5.27078807e-02, -2.53381014e-01, -3.91328856e-02,  3.17125857e-01,\n",
              "       -2.38411963e-01, -1.12258486e-01,  5.19334197e-01,  1.96920522e-02,\n",
              "        9.82636064e-02, -7.99496919e-02,  3.77783626e-01, -1.90512776e-01,\n",
              "        2.69409567e-01, -1.35367110e-01,  1.22649647e-01,  5.33967391e-02,\n",
              "       -2.01706722e-01,  1.43950269e-01, -1.69901744e-01,  2.00042769e-01,\n",
              "        1.71052843e-01, -1.22522734e-01,  2.09242120e-01,  8.16374794e-02,\n",
              "       -1.54783532e-01,  1.20247088e-01,  2.79350251e-01,  3.76264453e-01,\n",
              "        8.96022543e-02,  2.29293808e-01, -6.34783581e-02,  3.19551051e-01,\n",
              "        1.50524974e-01,  8.58201310e-02,  1.17026865e-01, -2.29820713e-01,\n",
              "       -8.21016654e-02,  3.67364556e-01, -5.07951319e-01,  4.70332205e-01,\n",
              "       -2.65794527e-02,  3.65495414e-01, -2.11971536e-01, -1.01824969e-01,\n",
              "       -5.21707296e-01,  1.55769616e-01,  5.21898158e-02,  2.06510067e-01,\n",
              "       -1.92309365e-01, -2.55319744e-01,  2.57362705e-02, -6.69914335e-02,\n",
              "       -4.82210927e-02, -6.55970871e-02, -2.51063198e-01,  1.03268914e-01,\n",
              "       -5.40416164e-04,  2.56968230e-01,  1.81846842e-01, -1.26302764e-01,\n",
              "        2.06750274e-01,  3.26917499e-01,  2.33191699e-01, -6.56546205e-02,\n",
              "        3.53523701e-01, -1.43844143e-01, -4.49222475e-01, -5.00648379e-01,\n",
              "        5.03550284e-02, -3.67257446e-01, -1.00013137e-01,  1.34561926e-01,\n",
              "       -1.96185727e-02, -2.76677787e-01, -1.55582756e-01,  9.45110545e-02,\n",
              "       -1.96351409e-01,  2.08778441e-01, -2.13381335e-01, -2.18967035e-01,\n",
              "        2.14053201e-03,  1.54452831e-01,  2.21711606e-01,  5.83673008e-02,\n",
              "        9.14111510e-02, -9.31724310e-02, -3.71126413e-01, -2.28991613e-01,\n",
              "        9.53039676e-02, -2.07358450e-01, -4.68286360e-03, -5.74633777e-01,\n",
              "       -3.25368553e-01,  1.48253575e-01, -1.36432245e-01,  2.87541077e-02,\n",
              "       -8.78170654e-02,  6.65523335e-02, -7.99505860e-02, -7.14751035e-02,\n",
              "        1.54783756e-01,  4.38912719e-01,  3.51746082e-01,  3.41053516e-01,\n",
              "       -5.28306067e-02,  2.69092709e-01,  3.95200104e-02,  1.07064232e-01,\n",
              "        1.73151597e-01,  2.57666290e-01, -2.53195465e-01, -5.66168576e-02,\n",
              "       -9.94415730e-02, -7.65239596e-02, -1.81257538e-02,  1.94545999e-01,\n",
              "       -5.74192479e-02,  1.56192690e-01,  1.01643115e-01, -2.38888830e-01,\n",
              "        3.08792703e-02,  2.84361124e-01, -2.78238416e-01, -1.36994094e-01,\n",
              "        3.23642403e-01, -3.10559809e-01, -1.65893417e-03, -3.80102545e-02,\n",
              "       -2.64243752e-01, -9.22684222e-02, -2.02767104e-01,  1.44195288e-01,\n",
              "       -2.78256893e-01, -1.38126925e-01, -1.00767486e-01,  1.27986059e-01,\n",
              "        2.57138431e-01,  2.92442173e-01, -7.74214864e-02,  1.39347851e-01,\n",
              "       -1.59806430e-01, -1.64590910e-01, -2.33790413e-01, -2.21947068e-03,\n",
              "       -1.50204375e-01,  5.90162762e-02,  6.65521324e-02,  2.07438797e-01,\n",
              "       -1.33132458e-01, -3.64059240e-01, -1.46126643e-01, -2.70849526e-01,\n",
              "        2.25350000e-02, -1.30366951e-01,  1.85485370e-02, -3.10056567e-01,\n",
              "       -1.39913678e-01,  7.91186094e-03,  1.71085969e-01, -4.84663546e-02,\n",
              "        2.78702915e-01,  2.15429604e-01, -6.50701746e-02, -1.33423135e-01,\n",
              "       -3.50939184e-01,  1.57903194e-01, -4.06739078e-02, -3.19715917e-01,\n",
              "       -4.52767201e-02,  2.05503270e-01,  1.94935024e-01, -2.60337871e-02,\n",
              "       -1.21488564e-01,  4.07005101e-01, -9.62142125e-02,  3.47855866e-01,\n",
              "        5.07254899e-02,  3.09520513e-01,  1.91574723e-01, -1.71816349e-01,\n",
              "        2.19255552e-01, -1.81742668e-01,  1.61094040e-01,  1.85147718e-01,\n",
              "        7.11688101e-01, -1.43119439e-01,  1.28769726e-01,  2.08233953e-01,\n",
              "        1.52628750e-01,  1.41413927e-01, -1.38238072e-01,  3.62328440e-01,\n",
              "        3.15047465e-02,  4.53639217e-02,  3.04863751e-01, -9.24932733e-02,\n",
              "        1.57932028e-01, -5.12969233e-02, -2.34961942e-01, -1.36318699e-01,\n",
              "        5.72398081e-02,  3.29899155e-02,  4.78957534e-01,  1.08861879e-01,\n",
              "       -7.30524480e-01, -1.70858726e-01,  1.65770367e-01, -1.29021287e-01,\n",
              "       -1.37501553e-01,  5.79983965e-02, -9.31059867e-02,  2.77877390e-01,\n",
              "        2.54352480e-01,  1.21392906e-01, -1.13572925e-01,  1.02542289e-01,\n",
              "        3.62548344e-02, -2.77488381e-02, -5.48079669e-01,  7.69951493e-02,\n",
              "       -3.29840295e-02, -1.19948059e-01, -2.99168050e-01,  1.55925766e-01,\n",
              "        1.22509405e-01, -1.12629430e-02,  1.89256147e-01,  5.11966228e-01,\n",
              "        3.18467394e-02, -1.28128961e-01, -1.55503616e-01,  9.48992148e-02,\n",
              "        1.14788190e-01, -2.42045209e-01, -1.96909085e-02,  3.66626054e-01,\n",
              "       -2.15938032e-01, -5.90872884e-01,  1.33848682e-01,  2.83670891e-02],\n",
              "      dtype=float32)"
            ]
          },
          "metadata": {},
          "execution_count": 29
        }
      ]
    },
    {
      "cell_type": "code",
      "source": [
        "model.wv['warranty']"
      ],
      "metadata": {
        "colab": {
          "base_uri": "https://localhost:8080/"
        },
        "id": "lFetcEVJk8Nd",
        "outputId": "2e9d2538-d029-4ff2-d517-f57fc69b6f96"
      },
      "execution_count": 30,
      "outputs": [
        {
          "output_type": "execute_result",
          "data": {
            "text/plain": [
              "array([-0.11322433,  0.40472823,  0.33961764,  0.17570268,  0.19029996,\n",
              "        0.14966154, -0.20487052,  0.285083  , -0.05193044, -0.0288015 ,\n",
              "        0.13886236, -0.60963994, -0.0319281 , -0.16938731,  0.03207734,\n",
              "        0.08253066,  0.04884907,  0.14381972, -0.18241204, -0.13969567,\n",
              "       -0.17191494, -0.01977539,  0.2651999 ,  0.08026256,  0.24352252,\n",
              "       -0.04676777, -0.01844135,  0.10861893,  0.39447096,  0.13268335,\n",
              "        0.19889851, -0.22393598,  0.31503427, -0.42294535, -0.01229217,\n",
              "        0.11204702, -0.02864972, -0.20475282,  0.24086097,  0.04543356,\n",
              "       -0.29968762,  0.21489252, -0.03513754,  0.17894521,  0.5767999 ,\n",
              "       -0.5227876 ,  0.10558143, -0.04806846, -0.36293304,  0.22943386,\n",
              "        0.19111976, -0.15442976, -0.44477305,  0.29304504,  0.16134194,\n",
              "        0.34705466,  0.00408676, -0.01953954, -0.21558589,  0.2326902 ,\n",
              "       -0.15172556, -0.10834455, -0.38415256,  0.10294395,  0.03917287,\n",
              "       -0.04176137,  0.09359787, -0.32674077, -0.16793188, -0.10094221,\n",
              "       -0.06995517, -0.37467954,  0.13014212, -0.1513945 ,  0.28511882,\n",
              "        0.0082555 , -0.38584232, -0.11324941, -0.15352634,  0.30604374,\n",
              "        0.16672912, -0.37867552,  0.08635692, -0.27592614, -0.21389663,\n",
              "        0.30187106,  0.17077628,  0.56546485,  0.02115554,  0.31164062,\n",
              "        0.21426125,  0.17163305, -0.20760502,  0.14903237,  0.1111922 ,\n",
              "       -0.01961542, -0.18325916,  0.14939459, -0.380793  ,  0.21693823,\n",
              "       -0.247074  ,  0.26862502, -0.25509256,  0.05830748, -0.24046198,\n",
              "        0.17446388, -0.12939483,  0.0504573 , -0.4653274 , -0.23157087,\n",
              "       -0.21765739,  0.06600448,  0.17101668,  0.10096885, -0.45713115,\n",
              "       -0.04014922, -0.0197346 ,  0.430744  ,  0.4033471 ,  0.00983958,\n",
              "        0.39849907,  0.14627224,  0.23333694, -0.31759176,  0.01473971,\n",
              "        0.04473023, -0.28958285, -0.4522769 ,  0.06934317,  0.04558872,\n",
              "        0.44996268,  0.15089303, -0.00530856, -0.21086532, -0.38295534,\n",
              "       -0.1355378 , -0.12843637,  0.12530734, -0.26745775, -0.26877087,\n",
              "        0.23409171,  0.08948325, -0.06729231, -0.21485054,  0.2052277 ,\n",
              "        0.24005106, -0.470529  , -0.08613339, -0.1867959 ,  0.23647831,\n",
              "       -0.14536722, -0.5024651 , -0.01706494, -0.06349412, -0.21418554,\n",
              "       -0.0815722 , -0.64968497, -0.43524554,  0.0615538 ,  0.26690733,\n",
              "        0.03603396,  0.44201663,  0.19372775, -0.04769546, -0.31066662,\n",
              "        0.09515966, -0.00893778, -0.22866735, -0.26819924,  0.6616664 ,\n",
              "       -0.37707296, -0.02406769, -0.5757665 , -0.02091037,  0.36638558,\n",
              "       -0.12292843, -0.04647967,  0.2101227 ,  0.01559153, -0.43375245,\n",
              "       -0.19950019,  0.20189194, -0.17525466, -0.22954044,  0.3405572 ,\n",
              "       -0.38049412, -0.02993923, -0.0106649 , -0.44717738, -0.24306843,\n",
              "       -0.1294062 , -0.15298168, -0.31475925, -0.07244092, -0.31219724,\n",
              "       -0.20809452,  0.34785438, -0.17544511, -0.1808687 , -0.2758859 ,\n",
              "       -0.20489018,  0.01100732, -0.0634443 ,  0.12819973, -0.00359438,\n",
              "       -0.05745594,  0.01349381, -0.05566972, -0.5361824 , -0.00148201,\n",
              "       -0.45905736, -0.49966353, -0.04139262, -0.07016835, -0.06350743,\n",
              "       -0.27725822, -0.00169715, -0.05034657, -0.08250103,  0.06133658,\n",
              "       -0.0516783 ,  0.41637135, -0.17015442,  0.35532343,  0.0187138 ,\n",
              "        0.15747508,  0.19025616, -0.09352175,  0.19087324,  0.16719337,\n",
              "        0.23892231, -0.00709961,  0.08188786,  0.11035591, -0.28899717,\n",
              "       -0.03677015,  0.20225233,  0.10385435,  0.23672521, -0.21144435,\n",
              "        0.30694842, -0.09969154, -0.2923797 ,  0.45858657,  0.25138623,\n",
              "       -0.4133413 , -0.22442691, -0.06396081,  0.15556031, -0.11972558,\n",
              "       -0.18987128,  0.2907337 ,  0.03107692,  0.15956658,  0.46983883,\n",
              "        0.20400554,  0.06429041,  0.03284491, -0.2666071 , -0.13871762,\n",
              "        0.11888885,  0.13793048,  0.17470732,  0.25417843, -0.33896652,\n",
              "       -0.35131237,  0.26315007, -0.08305776,  0.44169158, -0.12240637,\n",
              "       -0.00732748,  0.23029315,  0.00944984,  0.16914582, -0.11951253,\n",
              "        0.39392012, -0.05538025,  0.10148957,  0.03571727,  0.3446441 ,\n",
              "       -0.00494165, -0.26381338, -0.13390875,  0.07819114,  0.30883628,\n",
              "       -0.25701568, -0.11183775,  0.43591473,  0.08186539, -0.08991411,\n",
              "        0.15704204, -0.13200073,  0.03533045, -0.24606282,  0.44352952,\n",
              "        0.51679605, -0.33968395, -0.62721497,  0.33979252,  0.099869  ],\n",
              "      dtype=float32)"
            ]
          },
          "metadata": {},
          "execution_count": 30
        }
      ]
    },
    {
      "cell_type": "code",
      "source": [
        "def plot_embeddings(vectors, labels=None):\n",
        "    n_vectors = len(vectors)\n",
        "    fig = plt.figure(figsize=(12, n_vectors))\n",
        "    # ax = fig.add_axes([0.1, 0.1, 0.8, 0.8])\n",
        "    # ax = fig.add_axes([1, 1, 1, 1])\n",
        "    ax = plt.gca()\n",
        "\n",
        "    sns.heatmap(vectors, cmap='RdBu', vmax=2, vmin=-2, ax=ax)\n",
        "\n",
        "    if labels:\n",
        "        ax.set_yticklabels(labels,rotation=0)\n",
        "        ax.tick_params(axis='both', which='major', labelsize=30)\n",
        "\n",
        "    plt.tick_params(axis='x',          # changes apply to the x-axis\n",
        "        which='both',      # both major and minor ticks are affected\n",
        "        bottom=False,      # ticks along the bottom edge are off\n",
        "        top=False,         # ticks along the top edge are off\n",
        "        labelbottom=False) # labels along the bottom edge are off\n",
        "\n",
        "    # From https://github.com/mwaskom/seaborn/issues/1773\n",
        "    # fix for mpl bug that cuts off top/bottom of seaborn viz\n",
        "    b, t = plt.ylim() # discover the values for bottom and top\n",
        "    b += 0.5 # Add 0.5 to the bottom\n",
        "    t -= 0.5 # Subtract 0.5 from the top\n",
        "    plt.ylim(b, t) # update the ylim(bottom, top) values\n",
        "    plt.show() # ta-da!"
      ],
      "metadata": {
        "id": "7YSlQM5Gk_yl"
      },
      "execution_count": 31,
      "outputs": []
    },
    {
      "cell_type": "code",
      "source": [
        "plot_embeddings([model.wv['guarantee'], model.wv['warranty']],\n",
        "                ['guarantee', 'warranty'])"
      ],
      "metadata": {
        "colab": {
          "base_uri": "https://localhost:8080/",
          "height": 173
        },
        "id": "dAI9doyalB8O",
        "outputId": "4f3f29f0-07c3-4e0c-da58-24e5e40fa7ee"
      },
      "execution_count": 35,
      "outputs": [
        {
          "output_type": "display_data",
          "data": {
            "text/plain": [
              "<Figure size 1200x200 with 2 Axes>"
            ],
            "image/png": "[encoded data removed]"
          },
          "metadata": {}
        }
      ]
    },
    {
      "cell_type": "markdown",
      "source": [
        "# Most similar words"
      ],
      "metadata": {
        "id": "GiB3LFJIw300"
      }
    },
    {
      "cell_type": "markdown",
      "source": [
        "### 10. Finding similar words:"
      ],
      "metadata": {
        "id": "v48OxEGrM-QE"
      }
    },
    {
      "cell_type": "markdown",
      "source": [
        " This code finds the most similar words to \"guarantee\" and \"warranty\" based on the trained Word2Vec model."
      ],
      "metadata": {
        "id": "DMOC0OHwNEkr"
      }
    },
    {
      "cell_type": "code",
      "source": [
        "model.wv.most_similar(\"guarantee\", topn=10) # get other similar words"
      ],
      "metadata": {
        "colab": {
          "base_uri": "https://localhost:8080/"
        },
        "id": "v5-to-KojOAu",
        "outputId": "067b922f-7e03-4cce-e16e-92a5fb0004a6"
      },
      "execution_count": 36,
      "outputs": [
        {
          "output_type": "execute_result",
          "data": {
            "text/plain": [
              "[('guarentee', 0.5842103958129883),\n",
              " ('guaranteed', 0.5651603937149048),\n",
              " ('guaranty', 0.5629358291625977),\n",
              " ('honor', 0.5539951324462891),\n",
              " ('warranty', 0.550105631351471),\n",
              " ('lifetime', 0.5470574498176575),\n",
              " ('promise', 0.5431993007659912),\n",
              " ('warrenty', 0.5407271385192871),\n",
              " ('commitments', 0.5308763384819031),\n",
              " ('honored', 0.528092622756958)]"
            ]
          },
          "metadata": {},
          "execution_count": 36
        }
      ]
    },
    {
      "cell_type": "code",
      "source": [
        "plot_embeddings([model.wv['guarantee'], model.wv['guarentee'], model.wv['guaranteed'], model.wv['guaranty'], model.wv['honor'], model.wv['warranty'], model.wv['lifetime'], model.wv['promise'], model.wv['warrenty'], model.wv['commitments'], model.wv['honored']],\n",
        "                ['guarantee','guarentee','guaranteed','guaranty','honor','warranty','lifetime','promise','warrenty','commitments','honored'])"
      ],
      "metadata": {
        "colab": {
          "base_uri": "https://localhost:8080/",
          "height": 673
        },
        "id": "vcVIFSzpl7Q5",
        "outputId": "8944348a-1a14-4c15-e30e-f61f967d38a7"
      },
      "execution_count": 38,
      "outputs": [
        {
          "output_type": "display_data",
          "data": {
            "text/plain": [
              "<Figure size 1200x1100 with 2 Axes>"
            ],
            "image/png": "[encoded data removed]"
          },
          "metadata": {}
        }
      ]
    },
    {
      "cell_type": "code",
      "source": [
        "model.wv.most_similar('warranty', topn=10) # get other similar words"
      ],
      "metadata": {
        "colab": {
          "base_uri": "https://localhost:8080/"
        },
        "id": "4BudbbVhjPiQ",
        "outputId": "21f33117-7492-4e18-d460-1b95a2ff2075"
      },
      "execution_count": 39,
      "outputs": [
        {
          "output_type": "execute_result",
          "data": {
            "text/plain": [
              "[('warrantee', 0.7896212935447693),\n",
              " ('warrenty', 0.7733485102653503),\n",
              " ('warranties', 0.695410430431366),\n",
              " ('honor', 0.6833955645561218),\n",
              " ('expired', 0.669252872467041),\n",
              " ('policy', 0.6426275372505188),\n",
              " ('honored', 0.6412009000778198),\n",
              " ('warantee', 0.6410559415817261),\n",
              " ('lifetime', 0.6396937966346741),\n",
              " ('honoring', 0.633973240852356)]"
            ]
          },
          "metadata": {},
          "execution_count": 39
        }
      ]
    },
    {
      "cell_type": "code",
      "source": [
        "plot_embeddings([model.wv['warranty'], model.wv['warrantee'], model.wv['warrenty'], model.wv['warranties'], model.wv['honor'], model.wv['expired'], model.wv['policy'], model.wv['honored'], model.wv['warantee'], model.wv['lifetime'], model.wv['honoring']],\n",
        "                ['warranty','warrantee','warrenty','warranties','honor','expired','policy','honored','warantee','lifetime','honoring'])"
      ],
      "metadata": {
        "colab": {
          "base_uri": "https://localhost:8080/",
          "height": 712
        },
        "id": "0sqXJa83l_hF",
        "outputId": "bcd24f1f-44ff-482d-f7ff-fb1ca52e46eb"
      },
      "execution_count": 40,
      "outputs": [
        {
          "output_type": "display_data",
          "data": {
            "text/plain": [
              "<Figure size 1200x1100 with 2 Axes>"
            ],
            "image/png": "[encoded data removed]"
          },
          "metadata": {}
        }
      ]
    },
    {
      "cell_type": "markdown",
      "source": [
        "### 11. Expanding the list of keywords:"
      ],
      "metadata": {
        "id": "OGdz7ObRNKd5"
      }
    },
    {
      "cell_type": "markdown",
      "source": [
        "This code combines the original keywords with the similar words and removes duplicates to obtain an expanded list of keywords."
      ],
      "metadata": {
        "id": "UM_obGx0NNNt"
      }
    },
    {
      "cell_type": "code",
      "source": [
        "keywords = ['guarantee', 'warranty']\n",
        "\n",
        "similar_words = []\n",
        "for keyword in tqdm(keywords, total=len(keywords)):\n",
        "     similar_words += [word for word in model.wv.most_similar(keyword)]\n",
        "     # Combine the keywords and similar words\n",
        "keywords += similar_words\n",
        "#keywords = list(set(keywords))\n",
        "keywords"
      ],
      "metadata": {
        "colab": {
          "base_uri": "https://localhost:8080/"
        },
        "id": "bHlXoDZ5jRRT",
        "outputId": "5a292fe1-b043-4796-b9d2-11695f7df014"
      },
      "execution_count": 44,
      "outputs": [
        {
          "output_type": "stream",
          "name": "stderr",
          "text": [
            "100%|██████████| 2/2 [00:00<00:00, 39.70it/s]\n"
          ]
        },
        {
          "output_type": "execute_result",
          "data": {
            "text/plain": [
              "['guarantee',\n",
              " 'warranty',\n",
              " ('guarentee', 0.5842103958129883),\n",
              " ('guaranteed', 0.5651603937149048),\n",
              " ('guaranty', 0.5629358291625977),\n",
              " ('honor', 0.5539951324462891),\n",
              " ('warranty', 0.550105631351471),\n",
              " ('lifetime', 0.5470574498176575),\n",
              " ('promise', 0.5431993007659912),\n",
              " ('warrenty', 0.5407271385192871),\n",
              " ('commitments', 0.5308763384819031),\n",
              " ('honored', 0.528092622756958),\n",
              " ('warrantee', 0.7896212935447693),\n",
              " ('warrenty', 0.7733485102653503),\n",
              " ('warranties', 0.695410430431366),\n",
              " ('honor', 0.6833955645561218),\n",
              " ('expired', 0.669252872467041),\n",
              " ('policy', 0.6426275372505188),\n",
              " ('honored', 0.6412009000778198),\n",
              " ('warantee', 0.6410559415817261),\n",
              " ('lifetime', 0.6396937966346741),\n",
              " ('honoring', 0.633973240852356)]"
            ]
          },
          "metadata": {},
          "execution_count": 44
        }
      ]
    },
    {
      "cell_type": "code",
      "source": [
        "elements = []\n",
        "for item in keywords:\n",
        "  if isinstance(item, tuple):\n",
        "        elements.append(item[0])\n",
        "  else:\n",
        "        elements.append(item)\n",
        "print(elements)"
      ],
      "metadata": {
        "colab": {
          "base_uri": "https://localhost:8080/"
        },
        "id": "UNR1jn_FjStH",
        "outputId": "720b8419-eac7-4f86-85cc-7fd7d63cd6f9"
      },
      "execution_count": 46,
      "outputs": [
        {
          "output_type": "stream",
          "name": "stdout",
          "text": [
            "['guarantee', 'warranty', 'guarentee', 'guaranteed', 'guaranty', 'honor', 'warranty', 'lifetime', 'promise', 'warrenty', 'commitments', 'honored', 'warrantee', 'warrenty', 'warranties', 'honor', 'expired', 'policy', 'honored', 'warantee', 'lifetime', 'honoring']\n"
          ]
        }
      ]
    },
    {
      "cell_type": "markdown",
      "source": [
        "### 12. Filtering reviews based on keywords:"
      ],
      "metadata": {
        "id": "tNY5GqvVNQym"
      }
    },
    {
      "cell_type": "markdown",
      "source": [
        " This code filters the reviews in the train['reviewText'] dataset, keeping only the ones that contain at least one of the keywords or similar words. The filtered reviews are stored in the filtered_reviews list."
      ],
      "metadata": {
        "id": "X5guI-9mNUCx"
      }
    },
    {
      "cell_type": "code",
      "source": [
        "# Filtering comments that have at least one of keywords or similar_words\n",
        "filtered_reviews = []\n",
        "for review in train['reviewText']:\n",
        "    for element in elements:\n",
        "        if element in review:\n",
        "            filtered_reviews.append(review)\n",
        "            break"
      ],
      "metadata": {
        "id": "bICy1FEHjUc6"
      },
      "execution_count": 47,
      "outputs": []
    },
    {
      "cell_type": "code",
      "source": [
        "# # Define a function to extract the reviews related to warranty\n",
        "# def extract_warranty_reviews(text):\n",
        "#   if not isinstance(text, str):\n",
        "#     return False\n",
        "\n",
        "#   for element in elements:\n",
        "#     if re.search(element, text, re.IGNORECASE):\n",
        "#       return True\n",
        "\n",
        "#   return False\n",
        "\n",
        "# # Apply the function to the reviewText column\n",
        "# train['warranty_related'] = train['reviewText'].apply(extract_warranty_reviews)\n",
        "\n",
        "# # Filter the dataset to include only the warranty-related reviews\n",
        "# warranty_df = train[train['warranty_related'] == True]\n",
        "\n",
        "# # Calculate the average rating for each product\n",
        "# product_ratings = warranty_df.groupby('asin')['overall'].mean()\n",
        "\n",
        "# # Print the results\n",
        "# print(product_ratings)"
      ],
      "metadata": {
        "id": "QNaXNrfBvO8-"
      },
      "execution_count": null,
      "outputs": []
    },
    {
      "cell_type": "code",
      "source": [
        "# Get the product ASIN for each review\n",
        "product_asins = []\n",
        "for review in filtered_reviews:\n",
        "  product_asins.append(train.loc[train['reviewText'] == review, 'asin'].values[0])"
      ],
      "metadata": {
        "id": "_FaUL0XarCax"
      },
      "execution_count": null,
      "outputs": []
    },
    {
      "cell_type": "code",
      "source": [
        "# Get the overall rating for each review\n",
        "overall_ratings = []\n",
        "for review in filtered_reviews:\n",
        "  overall_ratings.append(train.loc[train['reviewText'] == review, 'overall'].values[0])"
      ],
      "metadata": {
        "id": "K9-zbE-TrpZv"
      },
      "execution_count": null,
      "outputs": []
    },
    {
      "cell_type": "code",
      "source": [
        "# Calculate the average rating for each product\n",
        "average_ratings = {}\n",
        "for product_asin in set(product_asins):\n",
        "  ratings = [overall_rating for overall_rating, product_asin2 in zip(overall_ratings, product_asins) if product_asin2 == product_asin]\n",
        "  if len(ratings) > 0:\n",
        "    average_ratings[product_asin] = sum(ratings) / len(ratings)"
      ],
      "metadata": {
        "id": "G48EOSy8rpM5"
      },
      "execution_count": null,
      "outputs": []
    },
    {
      "cell_type": "code",
      "source": [
        "# Print the average ratings\n",
        "for product_asin, average_rating in average_ratings.items():\n",
        "  print(f\"Product ASIN: {product_asin}, Average rating: {average_rating}\")"
      ],
      "metadata": {
        "id": "0OcpcTS6rKzo"
      },
      "execution_count": null,
      "outputs": []
    },
    {
      "cell_type": "code",
      "source": [
        "# Get the product ASINs and average ratings\n",
        "product_asins = list(average_ratings.keys())\n",
        "average_ratings = list(average_ratings.values())\n",
        "\n",
        "# Create a line chart\n",
        "plt.plot(product_asins, average_ratings)\n",
        "\n",
        "# Add a title and labels\n",
        "plt.title(\"Average rating by product ASIN\")\n",
        "plt.xlabel(\"Product ASIN\")\n",
        "plt.ylabel(\"Average rating\")\n",
        "\n",
        "# Show the plot\n",
        "plt.show()"
      ],
      "metadata": {
        "id": "eRiSN06rrNhT"
      },
      "execution_count": null,
      "outputs": []
    },
    {
      "cell_type": "code",
      "source": [
        "# # Calculate the average score for each item\n",
        "# overall_scores = []\n",
        "# for review in filtered_reviews:\n",
        "#     overall_score = train.loc[train['reviewText'] == review]['overall'].iloc[0]\n",
        "#     overall_scores.append(overall_score)\n",
        "\n",
        "# # Average score report\n",
        "# print('Average score for product warranty:', round(sum(overall_scores) / len(overall_scores), 2))"
      ],
      "metadata": {
        "id": "XnldiUFSjWAK"
      },
      "execution_count": null,
      "outputs": []
    },
    {
      "cell_type": "code",
      "source": [
        "# # Convert the product_ratings Series to a DataFrame\n",
        "# product_ratings_df = overall_scores.reset_index()\n",
        "\n",
        "# # Plot the average ratings\n",
        "# plt.figure(figsize=(10, 6))\n",
        "# plt.bar(product_ratings_df['asin'], product_ratings_df['overall'])\n",
        "# plt.xlabel('Product ID')\n",
        "# plt.ylabel('Average Rating')\n",
        "# plt.title('Average Rating for Each Product')\n",
        "# plt.show()"
      ],
      "metadata": {
        "id": "op20m3Y0jYH7"
      },
      "execution_count": null,
      "outputs": []
    },
    {
      "cell_type": "code",
      "source": [
        "# # Plot the distribution of the 'overall' column\n",
        "# plt.hist(train['overall'], bins=5, edgecolor='black')\n",
        "# plt.title('Distribution of Overall Ratings')\n",
        "# plt.xlabel('Rating')\n",
        "# plt.ylabel('Frequency')\n",
        "# plt.show()"
      ],
      "metadata": {
        "id": "gsoJWKyXjcUi"
      },
      "execution_count": null,
      "outputs": []
    },
    {
      "cell_type": "markdown",
      "source": [
        "# Visualizing Word2Vec Word Embeddings using t-SNE"
      ],
      "metadata": {
        "id": "FM-ttM89xyiC"
      }
    },
    {
      "cell_type": "code",
      "source": [
        "# from sklearn.manifold import TSNE\n",
        "# rst = TSNE(n_components=3, random_state=0).fit_transform(X[:100])"
      ],
      "metadata": {
        "id": "JnJCYK_75GEo"
      },
      "execution_count": null,
      "outputs": []
    },
    {
      "cell_type": "code",
      "source": [
        "# def display_closestwords_tsnescatterplot(model, word):\n",
        "\n",
        "#     arr = np.empty((0,100), dtype='f')\n",
        "#     word_labels = [word]\n",
        "\n",
        "#     # get close words\n",
        "#     close_words = model.similar_by_word(word)\n",
        "\n",
        "#     # add the vector for each of the closest words to the array\n",
        "#     arr = np.append(arr, np.array([model[word]]), axis=0)\n",
        "#     for wrd_score in close_words:\n",
        "#         wrd_vector = model[wrd_score[0]]\n",
        "#         word_labels.append(wrd_score[0])\n",
        "#         arr = np.append(arr, np.array([wrd_vector]), axis=0)\n",
        "\n",
        "#     # find tsne coords for 2 dimensions\n",
        "#     tsne = TSNE(n_components=2, random_state=0)\n",
        "#     np.set_printoptions(suppress=True)\n",
        "#     Y = tsne.fit_transform(arr)\n",
        "\n",
        "#     x_coords = Y[:, 0]\n",
        "#     y_coords = Y[:, 1]\n",
        "#     # display scatter plot\n",
        "#     plt.scatter(x_coords, y_coords)\n",
        "\n",
        "#     for label, x, y in zip(word_labels, x_coords, y_coords):\n",
        "#         plt.annotate(label, xy=(x, y), xytext=(0, 0), textcoords='offset points')\n",
        "#     plt.xlim(x_coords.min()+0.00005, x_coords.max()+0.00005)\n",
        "#     plt.ylim(y_coords.min()+0.00005, y_coords.max()+0.00005)\n",
        "#     plt.show()"
      ],
      "metadata": {
        "id": "1MSVMQaX479g"
      },
      "execution_count": null,
      "outputs": []
    },
    {
      "cell_type": "code",
      "source": [
        "# display_closestwords_tsnescatterplot(model, 'guarantee')"
      ],
      "metadata": {
        "id": "B581CKEm49fy"
      },
      "execution_count": null,
      "outputs": []
    }
  ]
}
